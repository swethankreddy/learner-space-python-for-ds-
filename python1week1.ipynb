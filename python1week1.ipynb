{
 "cells": [
  {
   "cell_type": "code",
   "execution_count": 3,
   "id": "0633719d-fc3c-4873-884f-3b127818caaa",
   "metadata": {},
   "outputs": [
    {
     "name": "stdout",
     "output_type": "stream",
     "text": [
      "Original Array:\n",
      " [[88 80 78 94 22]\n",
      " [ 7 16 86 81 33]\n",
      " [75 81 19 72 70]\n",
      " [94 76 28 54 59]\n",
      " [95 59 27 46 75]]\n",
      "Middle Element: 19\n",
      "Mean of each row: [72.4 44.6 63.4 62.2 60.4]\n",
      "Elements greater than overall mean: [88 80 78 94 86 81 75 81 72 70 94 76 95 75]\n",
      "Spiral Order of the array: [88, 80, 78, 94, 22, 33, 70, 59, 75, 46, 27, 59, 95, 94, 75, 7, 16, 86, 81, 72, 54, 28, 76, 81, 19]\n"
     ]
    }
   ],
   "source": [
    "import numpy as np\n",
    "\n",
    "\n",
    "arr = np.random.randint(1, 101, size=(5, 5))\n",
    "print(\"Original Array:\\n\", arr)\n",
    "\n",
    "\n",
    "middle_element = arr[2, 2]\n",
    "print(\"Middle Element:\", middle_element)\n",
    "\n",
    "\n",
    "row_means = np.mean(arr, axis=1)\n",
    "print(\"Mean of each row:\", row_means)\n",
    "\n",
    "\n",
    "overall_mean = np.mean(arr)\n",
    "greater_than_mean = arr[arr > overall_mean]\n",
    "print(\"Elements greater than overall mean:\", greater_than_mean)\n",
    "\n",
    "\n",
    "def numpy_spiral_order(matrix):\n",
    "    result = []\n",
    "    while matrix.size:\n",
    "        result.extend(matrix[0])\n",
    "        matrix = np.rot90(matrix[1:])\n",
    "    return result\n",
    "\n",
    "\n",
    "spiral_order = numpy_spiral_order(arr)\n",
    "print(\"Spiral Order of the array:\", spiral_order)\n"
   ]
  },
  {
   "cell_type": "code",
   "execution_count": null,
   "id": "990b2d33-a2c0-48b4-b4bc-70bb98804bfd",
   "metadata": {},
   "outputs": [],
   "source": []
  }
 ],
 "metadata": {
  "kernelspec": {
   "display_name": "Python 3 (ipykernel)",
   "language": "python",
   "name": "python3"
  },
  "language_info": {
   "codemirror_mode": {
    "name": "ipython",
    "version": 3
   },
   "file_extension": ".py",
   "mimetype": "text/x-python",
   "name": "python",
   "nbconvert_exporter": "python",
   "pygments_lexer": "ipython3",
   "version": "3.12.2"
  }
 },
 "nbformat": 4,
 "nbformat_minor": 5
}
